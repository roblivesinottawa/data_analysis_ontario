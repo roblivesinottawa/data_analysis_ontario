{
 "cells": [
  {
   "cell_type": "code",
   "execution_count": 1,
   "metadata": {},
   "outputs": [],
   "source": [
    "import pandas as pd\n",
    "import numpy as np\n",
    "import matplotlib.pyplot as plt\n",
    "import seaborn as sns"
   ]
  },
  {
   "cell_type": "code",
   "execution_count": 3,
   "metadata": {},
   "outputs": [],
   "source": [
    "df = pd.read_csv('../data/90a3a8f4-5c81-43b4-9f07-2e5029ff5fb1.csv')"
   ]
  },
  {
   "cell_type": "code",
   "execution_count": 4,
   "metadata": {},
   "outputs": [
    {
     "data": {
      "text/html": [
       "<div>\n",
       "<style scoped>\n",
       "    .dataframe tbody tr th:only-of-type {\n",
       "        vertical-align: middle;\n",
       "    }\n",
       "\n",
       "    .dataframe tbody tr th {\n",
       "        vertical-align: top;\n",
       "    }\n",
       "\n",
       "    .dataframe thead th {\n",
       "        text-align: right;\n",
       "    }\n",
       "</style>\n",
       "<table border=\"1\" class=\"dataframe\">\n",
       "  <thead>\n",
       "    <tr style=\"text-align: right;\">\n",
       "      <th></th>\n",
       "      <th>_id</th>\n",
       "      <th>Year</th>\n",
       "      <th>Category of Records</th>\n",
       "      <th>Records Accessed</th>\n",
       "      <th>Total number of times demanded</th>\n",
       "    </tr>\n",
       "  </thead>\n",
       "  <tbody>\n",
       "    <tr>\n",
       "      <th>0</th>\n",
       "      <td>1</td>\n",
       "      <td>2019</td>\n",
       "      <td>Records containing contact information or othe...</td>\n",
       "      <td>Facebook, Instagram, Shaw Communications, Bell...</td>\n",
       "      <td>10</td>\n",
       "    </tr>\n",
       "    <tr>\n",
       "      <th>1</th>\n",
       "      <td>2</td>\n",
       "      <td>2019</td>\n",
       "      <td>Photos, videos, or other records containing vi...</td>\n",
       "      <td>Facebook, Instagram</td>\n",
       "      <td>4</td>\n",
       "    </tr>\n",
       "    <tr>\n",
       "      <th>2</th>\n",
       "      <td>3</td>\n",
       "      <td>2019</td>\n",
       "      <td>Records of telecommunications or records that ...</td>\n",
       "      <td>Bell (Phone ping), Facebook, Instagram, TBay T...</td>\n",
       "      <td>14</td>\n",
       "    </tr>\n",
       "    <tr>\n",
       "      <th>3</th>\n",
       "      <td>4</td>\n",
       "      <td>2019</td>\n",
       "      <td>Records of employment information</td>\n",
       "      <td>NaN</td>\n",
       "      <td>0</td>\n",
       "    </tr>\n",
       "    <tr>\n",
       "      <th>4</th>\n",
       "      <td>5</td>\n",
       "      <td>2019</td>\n",
       "      <td>Records of personal health information within ...</td>\n",
       "      <td>Lake of the Woods District Hospital and Paters...</td>\n",
       "      <td>3</td>\n",
       "    </tr>\n",
       "    <tr>\n",
       "      <th>5</th>\n",
       "      <td>6</td>\n",
       "      <td>2019</td>\n",
       "      <td>Records related to services received from a se...</td>\n",
       "      <td>NaN</td>\n",
       "      <td>0</td>\n",
       "    </tr>\n",
       "    <tr>\n",
       "      <th>6</th>\n",
       "      <td>7</td>\n",
       "      <td>2019</td>\n",
       "      <td>Records that related to a student of an educat...</td>\n",
       "      <td>NaN</td>\n",
       "      <td>0</td>\n",
       "    </tr>\n",
       "    <tr>\n",
       "      <th>7</th>\n",
       "      <td>8</td>\n",
       "      <td>2019</td>\n",
       "      <td>Records containing travel and accommodation in...</td>\n",
       "      <td>NaN</td>\n",
       "      <td>0</td>\n",
       "    </tr>\n",
       "    <tr>\n",
       "      <th>8</th>\n",
       "      <td>9</td>\n",
       "      <td>2019</td>\n",
       "      <td>Records of financial information</td>\n",
       "      <td>RBC Bank, TD Bank</td>\n",
       "      <td>3</td>\n",
       "    </tr>\n",
       "    <tr>\n",
       "      <th>9</th>\n",
       "      <td>10</td>\n",
       "      <td>2019</td>\n",
       "      <td>Other</td>\n",
       "      <td>NaN</td>\n",
       "      <td>0</td>\n",
       "    </tr>\n",
       "    <tr>\n",
       "      <th>10</th>\n",
       "      <td>11</td>\n",
       "      <td>2020</td>\n",
       "      <td>Records containing contact information or othe...</td>\n",
       "      <td>Facebook, Instagram, Bank of Montreal, Money M...</td>\n",
       "      <td>26</td>\n",
       "    </tr>\n",
       "    <tr>\n",
       "      <th>11</th>\n",
       "      <td>12</td>\n",
       "      <td>2020</td>\n",
       "      <td>Photos, videos, or other records containing vi...</td>\n",
       "      <td>Facebook, Instagram, Canadian Imperial Bank of...</td>\n",
       "      <td>11</td>\n",
       "    </tr>\n",
       "    <tr>\n",
       "      <th>12</th>\n",
       "      <td>13</td>\n",
       "      <td>2020</td>\n",
       "      <td>Records of telecommunications or records that ...</td>\n",
       "      <td>Facebook, Instagram, Rogers Communications, Tb...</td>\n",
       "      <td>25</td>\n",
       "    </tr>\n",
       "    <tr>\n",
       "      <th>13</th>\n",
       "      <td>14</td>\n",
       "      <td>2020</td>\n",
       "      <td>Records of employment information</td>\n",
       "      <td>Canada Revenue Agency, Toronto-Dominion Bank, ...</td>\n",
       "      <td>3</td>\n",
       "    </tr>\n",
       "    <tr>\n",
       "      <th>14</th>\n",
       "      <td>15</td>\n",
       "      <td>2020</td>\n",
       "      <td>Records of personal health information within ...</td>\n",
       "      <td>Ministry of Health, Long Term Care, Ontario He...</td>\n",
       "      <td>17</td>\n",
       "    </tr>\n",
       "    <tr>\n",
       "      <th>15</th>\n",
       "      <td>16</td>\n",
       "      <td>2020</td>\n",
       "      <td>Records related to services received from a se...</td>\n",
       "      <td>NaN</td>\n",
       "      <td>0</td>\n",
       "    </tr>\n",
       "    <tr>\n",
       "      <th>16</th>\n",
       "      <td>17</td>\n",
       "      <td>2020</td>\n",
       "      <td>Records that related to a student of an educat...</td>\n",
       "      <td>NaN</td>\n",
       "      <td>0</td>\n",
       "    </tr>\n",
       "    <tr>\n",
       "      <th>17</th>\n",
       "      <td>18</td>\n",
       "      <td>2020</td>\n",
       "      <td>Records containing travel and accommodation in...</td>\n",
       "      <td>WE Financial</td>\n",
       "      <td>1</td>\n",
       "    </tr>\n",
       "    <tr>\n",
       "      <th>18</th>\n",
       "      <td>19</td>\n",
       "      <td>2020</td>\n",
       "      <td>Records of financial information</td>\n",
       "      <td>Royal Bank of Canada, Bank of Montreal, Nation...</td>\n",
       "      <td>36</td>\n",
       "    </tr>\n",
       "    <tr>\n",
       "      <th>19</th>\n",
       "      <td>20</td>\n",
       "      <td>2020</td>\n",
       "      <td>Other</td>\n",
       "      <td>Bank of Montreal, Canada Revenue Agency, Minis...</td>\n",
       "      <td>5</td>\n",
       "    </tr>\n",
       "  </tbody>\n",
       "</table>\n",
       "</div>"
      ],
      "text/plain": [
       "    _id  Year                                Category of Records  \\\n",
       "0     1  2019  Records containing contact information or othe...   \n",
       "1     2  2019  Photos, videos, or other records containing vi...   \n",
       "2     3  2019  Records of telecommunications or records that ...   \n",
       "3     4  2019                  Records of employment information   \n",
       "4     5  2019  Records of personal health information within ...   \n",
       "5     6  2019  Records related to services received from a se...   \n",
       "6     7  2019  Records that related to a student of an educat...   \n",
       "7     8  2019  Records containing travel and accommodation in...   \n",
       "8     9  2019                   Records of financial information   \n",
       "9    10  2019                                              Other   \n",
       "10   11  2020  Records containing contact information or othe...   \n",
       "11   12  2020  Photos, videos, or other records containing vi...   \n",
       "12   13  2020  Records of telecommunications or records that ...   \n",
       "13   14  2020                  Records of employment information   \n",
       "14   15  2020  Records of personal health information within ...   \n",
       "15   16  2020  Records related to services received from a se...   \n",
       "16   17  2020  Records that related to a student of an educat...   \n",
       "17   18  2020  Records containing travel and accommodation in...   \n",
       "18   19  2020                   Records of financial information   \n",
       "19   20  2020                                              Other   \n",
       "\n",
       "                                     Records Accessed  \\\n",
       "0   Facebook, Instagram, Shaw Communications, Bell...   \n",
       "1                                 Facebook, Instagram   \n",
       "2   Bell (Phone ping), Facebook, Instagram, TBay T...   \n",
       "3                                                 NaN   \n",
       "4   Lake of the Woods District Hospital and Paters...   \n",
       "5                                                 NaN   \n",
       "6                                                 NaN   \n",
       "7                                                 NaN   \n",
       "8                                   RBC Bank, TD Bank   \n",
       "9                                                 NaN   \n",
       "10  Facebook, Instagram, Bank of Montreal, Money M...   \n",
       "11  Facebook, Instagram, Canadian Imperial Bank of...   \n",
       "12  Facebook, Instagram, Rogers Communications, Tb...   \n",
       "13  Canada Revenue Agency, Toronto-Dominion Bank, ...   \n",
       "14  Ministry of Health, Long Term Care, Ontario He...   \n",
       "15                                                NaN   \n",
       "16                                                NaN   \n",
       "17                                      WE Financial    \n",
       "18  Royal Bank of Canada, Bank of Montreal, Nation...   \n",
       "19  Bank of Montreal, Canada Revenue Agency, Minis...   \n",
       "\n",
       "    Total number of times demanded  \n",
       "0                               10  \n",
       "1                                4  \n",
       "2                               14  \n",
       "3                                0  \n",
       "4                                3  \n",
       "5                                0  \n",
       "6                                0  \n",
       "7                                0  \n",
       "8                                3  \n",
       "9                                0  \n",
       "10                              26  \n",
       "11                              11  \n",
       "12                              25  \n",
       "13                               3  \n",
       "14                              17  \n",
       "15                               0  \n",
       "16                               0  \n",
       "17                               1  \n",
       "18                              36  \n",
       "19                               5  "
      ]
     },
     "execution_count": 4,
     "metadata": {},
     "output_type": "execute_result"
    }
   ],
   "source": [
    "df"
   ]
  },
  {
   "cell_type": "code",
   "execution_count": 5,
   "metadata": {},
   "outputs": [
    {
     "data": {
      "text/plain": [
       "Index(['_id', 'Year', 'Category of Records', 'Records Accessed',\n",
       "       'Total number of times demanded'],\n",
       "      dtype='object')"
      ]
     },
     "execution_count": 5,
     "metadata": {},
     "output_type": "execute_result"
    }
   ],
   "source": [
    "df.columns"
   ]
  },
  {
   "cell_type": "code",
   "execution_count": 6,
   "metadata": {},
   "outputs": [
    {
     "data": {
      "text/plain": [
       "array([[<AxesSubplot:title={'center':'_id'}>,\n",
       "        <AxesSubplot:title={'center':'Year'}>],\n",
       "       [<AxesSubplot:title={'center':'Total number of times demanded'}>,\n",
       "        <AxesSubplot:>]], dtype=object)"
      ]
     },
     "execution_count": 6,
     "metadata": {},
     "output_type": "execute_result"
    },
    {
     "data": {
      "image/png": "[encoded data removed]",
      "text/plain": [
       "<Figure size 1440x1080 with 4 Axes>"
      ]
     },
     "metadata": {
      "needs_background": "light"
     },
     "output_type": "display_data"
    }
   ],
   "source": [
    "df.hist(bins=50, figsize=(20,15))"
   ]
  },
  {
   "cell_type": "code",
   "execution_count": 7,
   "metadata": {},
   "outputs": [
    {
     "data": {
      "text/plain": [
       "_id                               0\n",
       "Year                              0\n",
       "Category of Records               0\n",
       "Records Accessed                  7\n",
       "Total number of times demanded    0\n",
       "dtype: int64"
      ]
     },
     "execution_count": 7,
     "metadata": {},
     "output_type": "execute_result"
    }
   ],
   "source": [
    "df.isnull().sum()"
   ]
  },
  {
   "cell_type": "code",
   "execution_count": 8,
   "metadata": {},
   "outputs": [
    {
     "data": {
      "text/html": [
       "<div>\n",
       "<style scoped>\n",
       "    .dataframe tbody tr th:only-of-type {\n",
       "        vertical-align: middle;\n",
       "    }\n",
       "\n",
       "    .dataframe tbody tr th {\n",
       "        vertical-align: top;\n",
       "    }\n",
       "\n",
       "    .dataframe thead th {\n",
       "        text-align: right;\n",
       "    }\n",
       "</style>\n",
       "<table border=\"1\" class=\"dataframe\">\n",
       "  <thead>\n",
       "    <tr style=\"text-align: right;\">\n",
       "      <th></th>\n",
       "      <th>_id</th>\n",
       "      <th>Year</th>\n",
       "      <th>Total number of times demanded</th>\n",
       "    </tr>\n",
       "  </thead>\n",
       "  <tbody>\n",
       "    <tr>\n",
       "      <th>count</th>\n",
       "      <td>20.00000</td>\n",
       "      <td>20.000000</td>\n",
       "      <td>20.000000</td>\n",
       "    </tr>\n",
       "    <tr>\n",
       "      <th>mean</th>\n",
       "      <td>10.50000</td>\n",
       "      <td>2019.500000</td>\n",
       "      <td>7.900000</td>\n",
       "    </tr>\n",
       "    <tr>\n",
       "      <th>std</th>\n",
       "      <td>5.91608</td>\n",
       "      <td>0.512989</td>\n",
       "      <td>10.572556</td>\n",
       "    </tr>\n",
       "    <tr>\n",
       "      <th>min</th>\n",
       "      <td>1.00000</td>\n",
       "      <td>2019.000000</td>\n",
       "      <td>0.000000</td>\n",
       "    </tr>\n",
       "    <tr>\n",
       "      <th>25%</th>\n",
       "      <td>5.75000</td>\n",
       "      <td>2019.000000</td>\n",
       "      <td>0.000000</td>\n",
       "    </tr>\n",
       "    <tr>\n",
       "      <th>50%</th>\n",
       "      <td>10.50000</td>\n",
       "      <td>2019.500000</td>\n",
       "      <td>3.000000</td>\n",
       "    </tr>\n",
       "    <tr>\n",
       "      <th>75%</th>\n",
       "      <td>15.25000</td>\n",
       "      <td>2020.000000</td>\n",
       "      <td>11.750000</td>\n",
       "    </tr>\n",
       "    <tr>\n",
       "      <th>max</th>\n",
       "      <td>20.00000</td>\n",
       "      <td>2020.000000</td>\n",
       "      <td>36.000000</td>\n",
       "    </tr>\n",
       "  </tbody>\n",
       "</table>\n",
       "</div>"
      ],
      "text/plain": [
       "            _id         Year  Total number of times demanded\n",
       "count  20.00000    20.000000                       20.000000\n",
       "mean   10.50000  2019.500000                        7.900000\n",
       "std     5.91608     0.512989                       10.572556\n",
       "min     1.00000  2019.000000                        0.000000\n",
       "25%     5.75000  2019.000000                        0.000000\n",
       "50%    10.50000  2019.500000                        3.000000\n",
       "75%    15.25000  2020.000000                       11.750000\n",
       "max    20.00000  2020.000000                       36.000000"
      ]
     },
     "execution_count": 8,
     "metadata": {},
     "output_type": "execute_result"
    }
   ],
   "source": [
    "df.describe()"
   ]
  },
  {
   "cell_type": "code",
   "execution_count": 9,
   "metadata": {},
   "outputs": [
    {
     "data": {
      "text/plain": [
       "<AxesSubplot:xlabel='Year', ylabel='Total number of times demanded'>"
      ]
     },
     "execution_count": 9,
     "metadata": {},
     "output_type": "execute_result"
    },
    {
     "data": {
      "image/png": "[encoded data removed]",
      "text/plain": [
       "<Figure size 432x288 with 1 Axes>"
      ]
     },
     "metadata": {
      "needs_background": "light"
     },
     "output_type": "display_data"
    }
   ],
   "source": [
    "sns.barplot(x='Year', y='Total number of times demanded', data=df)"
   ]
  },
  {
   "cell_type": "code",
   "execution_count": null,
   "metadata": {},
   "outputs": [],
   "source": []
  }
 ],
 "metadata": {
  "interpreter": {
   "hash": "dee03b1924112c3238d23c98c3f985545bca73e9aa3cd91bc9d617365e696192"
  },
  "kernelspec": {
   "display_name": "Python 3.8.8 64-bit ('base': conda)",
   "name": "python3"
  },
  "language_info": {
   "codemirror_mode": {
    "name": "ipython",
    "version": 3
   },
   "file_extension": ".py",
   "mimetype": "text/x-python",
   "name": "python",
   "nbconvert_exporter": "python",
   "pygments_lexer": "ipython3",
   "version": "3.8.8"
  },
  "orig_nbformat": 4
 },
 "nbformat": 4,
 "nbformat_minor": 2
}
